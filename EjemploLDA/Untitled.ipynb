{
 "cells": [
  {
   "cell_type": "code",
   "execution_count": 1,
   "metadata": {
    "collapsed": true
   },
   "outputs": [],
   "source": [
    "from collections import Counter, defaultdict\n",
    "import numpy as np\n",
    "import lda\n",
    "import json\n",
    "import math"
   ]
  },
  {
   "cell_type": "code",
   "execution_count": null,
   "metadata": {
    "collapsed": true
   },
   "outputs": [],
   "source": []
  },
  {
   "cell_type": "markdown",
   "metadata": {},
   "source": [
    "nota: algo blah blah *importante*"
   ]
  },
  {
   "cell_type": "code",
   "execution_count": 2,
   "metadata": {
    "collapsed": true
   },
   "outputs": [],
   "source": [
    "def tf(w, counts):\n",
    "    return 0.5 + ((.5 * counts[w])/max(counts.values()))"
   ]
  },
  {
   "cell_type": "code",
   "execution_count": null,
   "metadata": {
    "collapsed": true
   },
   "outputs": [],
   "source": []
  },
  {
   "cell_type": "code",
   "execution_count": 3,
   "metadata": {
    "collapsed": true
   },
   "outputs": [],
   "source": [
    "def idf(w, D, N):\n",
    "    return math.log2(N / (D[w]))"
   ]
  },
  {
   "cell_type": "code",
   "execution_count": 18,
   "metadata": {
    "collapsed": false
   },
   "outputs": [],
   "source": [
    "X = np.ndarray((300, 17870), int)"
   ]
  },
  {
   "cell_type": "code",
   "execution_count": 19,
   "metadata": {
    "collapsed": true
   },
   "outputs": [],
   "source": [
    "with open('indices.json') as f:\n",
    "    jsons = [i for i in f]\n",
    "\n",
    "vocab = json.loads(jsons[1])"
   ]
  },
  {
   "cell_type": "code",
   "execution_count": 20,
   "metadata": {
    "collapsed": false
   },
   "outputs": [],
   "source": [
    "in_docs = defaultdict(int)\n",
    "with open('notas_separadas_indizadas.txt') as f:\n",
    "    for line in f:\n",
    "        line = json.loads(line)\n",
    "        for w in range(17870):\n",
    "            if w in line:\n",
    "                in_docs[w] += 1"
   ]
  },
  {
   "cell_type": "code",
   "execution_count": 21,
   "metadata": {
    "collapsed": false
   },
   "outputs": [],
   "source": [
    "idfs = {w:idf(w, in_docs, 300) for w in in_docs}"
   ]
  },
  {
   "cell_type": "code",
   "execution_count": 22,
   "metadata": {
    "collapsed": false
   },
   "outputs": [],
   "source": [
    "titles = []\n",
    "with open('notas_separadas_indizadas.txt') as f:\n",
    "    for i, line in enumerate(f):\n",
    "        line = json.loads(line)\n",
    "        title = ' '.join([vocab[str(n)] for n in line[:10]])\n",
    "        titles.append(title)\n",
    "        cuentas = Counter(line)\n",
    "        for j in range(17870):\n",
    "            X[i][j] = cuentas[j]\n",
    "            #X[i][j] = tf(j, cuentas) * idfs[j]\n",
    "titles = tuple(titles)"
   ]
  },
  {
   "cell_type": "code",
   "execution_count": 23,
   "metadata": {
    "collapsed": false
   },
   "outputs": [],
   "source": [
    "model = lda.LDA(n_topics=20, n_iter=500, random_state=1)"
   ]
  },
  {
   "cell_type": "code",
   "execution_count": 24,
   "metadata": {
    "collapsed": false
   },
   "outputs": [
    {
     "data": {
      "text/plain": [
       "<lda.lda.LDA at 0x49acef0>"
      ]
     },
     "execution_count": 24,
     "metadata": {},
     "output_type": "execute_result"
    }
   ],
   "source": [
    "model.fit(X)"
   ]
  },
  {
   "cell_type": "code",
   "execution_count": 25,
   "metadata": {
    "collapsed": false
   },
   "outputs": [],
   "source": [
    "topic_word = model.topic_word_"
   ]
  },
  {
   "cell_type": "code",
   "execution_count": 26,
   "metadata": {
    "collapsed": false
   },
   "outputs": [
    {
     "name": "stdout",
     "output_type": "stream",
     "text": [
      "Topic 0: gobierno, argentina, mercado, dólares, otros, también, nuevo, acuerdo, nueva, aunque, antes, mayor, haber, bonos, incluso, mayoría, había, semana, fondo, además, camino, cualquier, según, negociaciones, hacer, fuera, tener, ganar, tanto,\n",
      "Topic 1: comisión, nacional, general, partido, miguel, sobre, estado, federal, distrito, cargo, gobernador, partidos, guerrero, ángel, administración, convenio, consejo, dinero, senado, social, señaló, congreso, investigación, políticos, donde, asamblea, recursos, ciudad, senador,\n",
      "Topic 2: méxico, gobierno, presidente, reforma, desarrollo, financiera, reformas, federal, entre, servicios, empresas, tener, inversión, público, acceso, mexicanos, enrique, nieto, materia, económico, internacional, sistema, nacional, partir, secretaría, parte, economía, crédito, durante,\n",
      "Topic 3: mercado, ciento, valores, nacional, inversionistas, compra, capital, alemania, venta, acciones, inversión, bolsa, unidades, inversiones, activos, financieros, industria, mercados, productos, mexicana, presencia, vehículos, riesgos, italia, través, clientes, bienes, cuando, consumidores,\n",
      "Topic 4: china, quien, director, chinese, lugar, noble, rojas, permisos, chino, american, fiesta, plaza, casinos, juego, chinos, desgaste, global, facebook, propiedades, trenes, perfil, talento, protección, cofco, amazon, miami, beijing, carrera, descubierto,\n",
      "Topic 5: crecimiento, economía, deuda, banco, inflación, méxico, tasas, mercados, crisis, superscript, emergentes, europa, precios, dólares, dólar, interés, economías, plazo, central, unidos, pasado, estados, mercado, bancos, mientras, recuperación, inversionistas, demanda, global,\n",
      "Topic 6: presidente, municipal, seguridad, estado, gobierno, michoacán, salvador, salinas, grupos, señor, campo, usted, antonio, nuestro, pública, martínez, carlos, pueblo, jesús, gómez, quien, garcía, templarios, nuevo, república, policías, penal, municipio, drogas,\n",
      "Topic 7: estado, sobre, pemex, leyes, méxico, información, fiscal, administración, empresa, oceanografía, reforma, recursos, contratos, deberán, firma, poder, derecho, diputados, artículo, judicial, hidrocarburos, contrato, producción, contra, deberá, mexicana, federal, horas, consejo,\n",
      "Topic 8: ciento, millones, pesos, vivienda, crecimiento, crédito, sector, créditos, ingresos, recursos, anual, incremento, nacional, gasto, parte, cartera, mínimo, actividad, impuestos, señaló, trabajadores, financiero, cierre, promedio, hasta, acuerdo, nuevos, financiamiento, financieros,\n",
      "Topic 9: about, people, years, could, their, security, market, because, other, companies, these, business, trade, economy, where, group, still, sierra, first, money, however, through, making, countries, rates, three, hackers, problems, bonds,\n",
      "Topic 10: méxico, también, países, entre, tiene, mundo, están, todos, otros, hasta, desde, porque, estados, sobre, personas, puede, tienen, parte, unidos, algunos, mejor, tiempo, mucho, tenemos, después, sector, menos, ahora, decir,\n",
      "Topic 11: proyecto, cámara, niños, dirigencia, transporte, farmacias, salida, cordero, madero, millones, aeropuerto, hecho, nadie, alianza, oposición, ciudades, equipo, manuel, partido, paraestatal, blanca, renovación, boots, poder, ciudad, gustavo, marca, pacífico, senado,\n",
      "Topic 12: millones, dólares, empresa, grupo, banco, negocios, director, compañía, euros, negocio, firma, proceso, servicios, operación, deuda, valor, banamex, tiendas, también, ventas, comunicación, oferta, comercial, informó, línea, además, cuales, áreas, propiedad,\n",
      "Topic 13: política, sociedad, social, trabajo, derechos, humanos, parte, oportunidad, jóvenes, cambios, proceso, integración, forma, ciudadanos, deben, saber, político, quienes, plazo, puede, sociales, ayuda, interés, democracia, temas, mario, opinión, condiciones, fundaciones,\n",
      "Topic 14: millones, empresas, pasado, meses, según, pesos, cuenta, financiero, cuentas, entre, mayor, manera, fondos, julio, mismo, datos, operaciones, cuando, respecto, fueron, trimestre, sistema, aumento, otras, dinero, importante, autoridades, desde, comisión,\n",
      "Topic 15: desde, guerra, estados, unidos, elecciones, contra, presidente, campañas, siria, candidatos, electoral, electorales, dejar, kaplan, castro, política, campaña, fuerzas, convertido, fórmula, federales, revolución, rebeldes, conflicto, tampoco, siguen, juicio, político, colombia,\n",
      "Topic 16: mujica, cuando, presidente, uruguay, sobre, luego, estaba, durante, donde, lucía, presidencia, kirchner, entre, momento, vázquez, brasil, gobierno, puerto, misma, kilómetros, hombre, frente, después, hasta, había, tercera, tiene, nunca, nombre,\n",
      "Topic 17: educación, superior, sistema, justicia, universidad, locales, reforma, ejecutivo, universidades, básica, gonzález, euros, presupuestos, gobierno, también, constitución, programa, ahora, tribunal, financiación, durante, familia, ministerio, inglés, neverland, dinero, andalucía, mientras, sociales,\n",
      "Topic 18: would, there, investors, financial, markets, which, méxico, after, policy, economic, banks, jpmorgan, investment, public, energy, government, trading, including, cyprus, former, industry, information, being, minister, pemex, another, between, since, barréis,\n",
      "Topic 19: rusia, ucrania, narcotráfico, cártel, contra, familia, organización, emisiones, crimen, grupos, antes, energía, carbono, grupo, investigación, negocio, organizado, europea, natural, sanciones, criminal, cárteles, washington, metano, sicarios, guerra, quienes, influencia, ejército,\n"
     ]
    }
   ],
   "source": [
    "for i, topic_dist in enumerate(topic_word):\n",
    "    topic_words = np.array(tuple(str(n) for n in range(17870)))[np.argsort(topic_dist)][:-30:-1]\n",
    "    print('Topic {}: {}'.format(i, ' '.join([vocab[n] + \",\" for n in topic_words])))"
   ]
  },
  {
   "cell_type": "code",
   "execution_count": 27,
   "metadata": {
    "collapsed": false,
    "scrolled": true
   },
   "outputs": [
    {
     "name": "stdout",
     "output_type": "stream",
     "text": [
      "línea crédito linea credito secretaría hacienda crédito público renovará línea (top topic: 2)\n",
      "prevén venta comer entre comprador pagaría veces ventas empresa según (top topic: 12)\n",
      "presentan defensa recursos contra amparo gastón azcárraga procuraduría general república (top topic: 7)\n",
      "exministro mohamed chatá exministro libanés finanzas asesinado beirut críticos hezbolá (top topic: 15)\n",
      "siguen combates ucrania milicias separatistas mando unificado pablo corresponsal moscú (top topic: 19)\n",
      "black after years industry moshiri thought chevrons latin america africa (top topic: 18)\n",
      "notificó desgaste inusual ruedas noviembre dicen pilar juárez pjuarez elfinanciero (top topic: 4)\n",
      "éramos refugiados ahora siquiera refugachos mauricio mejía mmejia elfinanciero número (top topic: 15)\n",
      "ventas internas pierden durante abril éxito producción exportación vehículos industria (top topic: 3)\n",
      "cordero oliva anuncian alianza dirigencia premisa concretar inconformidad existe interior (top topic: 11)\n",
      "desdeña cordero acusación tiene operadores filas ofrece madero hacer crecer (top topic: 11)\n",
      "principal gobierno presidente enrique nieto clara jusidman presidenta fundadora incide (top topic: 13)\n",
      "economía europa necesita inflación marcus walker matthew dalton medida europa (top topic: 5)\n",
      "cellairis quiere conectar mercado mexicano tiene quioscos locales cierre espera (top topic: 10)\n",
      "mundial ayuda humanitaria saber donar angélica fuentes afuentes fundacionangelicafuentes mundial (top topic: 13)\n",
      "negocios ilícitos amenaza empresa evidente potencial frentan empresas causa negocios (top topic: 13)\n",
      "renta variable cuando aumenten tasas interés velocidad intensidad normalización políticas (top topic: 5)\n",
      "upwardly reality cheque europes financial institutions clear bltcoln markets (top topic: 18)\n",
      "rompe racha mercado interno julio ventas crecieron rompe racha mercado (top topic: 3)\n",
      "universidad autónoma guerrero inserción universidad autónoma guerrero comunidad universitaria pueblo (top topic: 1)\n",
      "detienen exfiscal acusado delito extorsión hernández autoridades capitalinas detuvieron consignaron (top topic: 6)\n",
      "impulsará clientelismos miguel alonso impulsará diputación federal miguel alonso bancada (top topic: 2)\n",
      "manejo riesgos incluir mecanismos financieros involucran mercado manejo riesgos incluir (top topic: 2)\n",
      "champiñones encinal inserción champiñones encinal aviso escisión medio presente cumplimiento (top topic: 7)\n",
      "firma méxico acuerdo contra evasión fiscal méxico contará nombres saldos (top topic: 7)\n",
      "activo empresarial reviven renaut registro nacional usuarios telefonía celular nació (top topic: 14)\n",
      "modifican programa inglés sonia valle secretaría educación iblica cambió programa (top topic: 17)\n",
      "riesgo valor pobre méxico ricos pobres romántico económico hecho parte (top topic: 10)\n",
      "historias personal millones pesos basura presupuesto seguridad pública ayuntamiento iguala (top topic: 6)\n",
      "busca acuerdos solucionar problemas tabasco gobernador tabasco arturo núñez jiménez (top topic: 2)\n"
     ]
    }
   ],
   "source": [
    ">>> doc_topic = model.doc_topic_\n",
    ">>> for i in range(30):\n",
    "...     print(\"{} (top topic: {})\".format(titles[i], doc_topic[i].argmax()))"
   ]
  },
  {
   "cell_type": "markdown",
   "metadata": {
    "collapsed": true
   },
   "source": [
    "\\begin{equation}\n",
    "x = \\frac{1}{2}\n",
    "\\end{equation}\n"
   ]
  },
  {
   "cell_type": "code",
   "execution_count": null,
   "metadata": {
    "collapsed": true
   },
   "outputs": [],
   "source": []
  }
 ],
 "metadata": {
  "kernelspec": {
   "display_name": "Python 3",
   "language": "python",
   "name": "python3"
  },
  "language_info": {
   "codemirror_mode": {
    "name": "ipython",
    "version": 3
   },
   "file_extension": ".py",
   "mimetype": "text/x-python",
   "name": "python",
   "nbconvert_exporter": "python",
   "pygments_lexer": "ipython3",
   "version": "3.3.3"
  }
 },
 "nbformat": 4,
 "nbformat_minor": 0
}
